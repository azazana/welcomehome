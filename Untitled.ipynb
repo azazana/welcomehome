{
 "cells": [
  {
   "cell_type": "code",
   "execution_count": 6,
   "id": "939bfcc0",
   "metadata": {},
   "outputs": [],
   "source": [
    "import requests\n",
    "\n"
   ]
  },
  {
   "cell_type": "code",
   "execution_count": 7,
   "id": "d84cf2fd",
   "metadata": {},
   "outputs": [
    {
     "name": "stdout",
     "output_type": "stream",
     "text": [
      "Requirement already satisfied: certifi in c:\\python 3.10\\lib\\site-packages (2022.12.7)\n",
      "Note: you may need to restart the kernel to use updated packages.\n"
     ]
    },
    {
     "name": "stderr",
     "output_type": "stream",
     "text": [
      "\n",
      "[notice] A new release of pip is available: 23.1.2 -> 23.2.1\n",
      "[notice] To update, run: python.exe -m pip install --upgrade pip\n"
     ]
    }
   ],
   "source": [
    "pip install certifi"
   ]
  },
  {
   "cell_type": "code",
   "execution_count": 8,
   "id": "33ace210",
   "metadata": {},
   "outputs": [
    {
     "name": "stdout",
     "output_type": "stream",
     "text": [
      "Note: you may need to restart the kernel to use updated packages.\n"
     ]
    },
    {
     "name": "stderr",
     "output_type": "stream",
     "text": [
      "\n",
      "[notice] A new release of pip is available: 23.1.2 -> 23.2.1\n",
      "[notice] To update, run: python.exe -m pip install --upgrade pip\n"
     ]
    },
    {
     "name": "stdout",
     "output_type": "stream",
     "text": [
      "Requirement already satisfied: urllib3[secure] in c:\\python 3.10\\lib\\site-packages (1.26.14)\n",
      "Requirement already satisfied: pyOpenSSL>=0.14 in c:\\python 3.10\\lib\\site-packages (from urllib3[secure]) (23.2.0)\n",
      "Requirement already satisfied: cryptography>=1.3.4 in c:\\python 3.10\\lib\\site-packages (from urllib3[secure]) (41.0.3)\n",
      "Requirement already satisfied: idna>=2.0.0 in c:\\python 3.10\\lib\\site-packages (from urllib3[secure]) (3.4)\n",
      "Requirement already satisfied: certifi in c:\\python 3.10\\lib\\site-packages (from urllib3[secure]) (2022.12.7)\n",
      "Requirement already satisfied: urllib3-secure-extra in c:\\python 3.10\\lib\\site-packages (from urllib3[secure]) (0.1.0)\n",
      "Requirement already satisfied: cffi>=1.12 in c:\\python 3.10\\lib\\site-packages (from cryptography>=1.3.4->urllib3[secure]) (1.15.1)\n",
      "Requirement already satisfied: pycparser in c:\\python 3.10\\lib\\site-packages (from cffi>=1.12->cryptography>=1.3.4->urllib3[secure]) (2.21)\n"
     ]
    }
   ],
   "source": [
    "pip install urllib3[secure]"
   ]
  },
  {
   "cell_type": "code",
   "execution_count": 9,
   "id": "6cf758ce",
   "metadata": {},
   "outputs": [],
   "source": [
    "\n",
    "url = 'https://typograf.ru/webservice/'\n",
    "response = requests.get(url)"
   ]
  },
  {
   "cell_type": "code",
   "execution_count": 10,
   "id": "ed24ad1d",
   "metadata": {},
   "outputs": [],
   "source": [
    "import certifi\n",
    "import urllib3\n",
    "http = urllib3.PoolManager(\n",
    "    cert_reqs='CERT_REQUIRED',\n",
    "    ca_certs=certifi.where()\n",
    ")"
   ]
  },
  {
   "cell_type": "code",
   "execution_count": 11,
   "id": "c17b4a78",
   "metadata": {},
   "outputs": [
    {
     "data": {
      "text/plain": [
       "'<p>asdfdsf</p>'"
      ]
     },
     "execution_count": 11,
     "metadata": {},
     "output_type": "execute_result"
    }
   ],
   "source": [
    "urllib3.PoolManager().request('POST', url, fields={'text': \"asdfdsf\", 'chr': 'UTF-8'}).data.decode('utf8')"
   ]
  }
 ],
 "metadata": {
  "kernelspec": {
   "display_name": "Python 3 (ipykernel)",
   "language": "python",
   "name": "python3"
  },
  "language_info": {
   "codemirror_mode": {
    "name": "ipython",
    "version": 3
   },
   "file_extension": ".py",
   "mimetype": "text/x-python",
   "name": "python",
   "nbconvert_exporter": "python",
   "pygments_lexer": "ipython3",
   "version": "3.10.2"
  }
 },
 "nbformat": 4,
 "nbformat_minor": 5
}
